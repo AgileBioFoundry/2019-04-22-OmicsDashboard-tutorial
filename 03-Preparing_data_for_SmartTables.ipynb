{
 "cells": [
  {
   "cell_type": "markdown",
   "metadata": {
    "toc": true
   },
   "source": [
    "<h1>Table of Contents<span class=\"tocSkip\"></span></h1>\n",
    "<div class=\"toc\"><ul class=\"toc-item\"><li><span><a href=\"#Preparing-data-for-SmartTables\" data-toc-modified-id=\"Preparing-data-for-SmartTables-1\"><span class=\"toc-item-num\">1&nbsp;&nbsp;</span>Preparing data for SmartTables</a></span><ul class=\"toc-item\"><li><span><a href=\"#First,-we-read-each-Excel-sheet-into-a-separate-data-frame\" data-toc-modified-id=\"First,-we-read-each-Excel-sheet-into-a-separate-data-frame-1.1\"><span class=\"toc-item-num\">1.1&nbsp;&nbsp;</span>First, we read each Excel sheet into a separate data frame</a></span></li><li><span><a href=\"#Next,-we-concatenate-the-$log_2FC$-and-$p_{adj}$-columns-from-each-dataframe-into-one-overall-table,-while-preserving-the-name-of-the-sheet-where-the-columns-came-from\" data-toc-modified-id=\"Next,-we-concatenate-the-$log_2FC$-and-$p_{adj}$-columns-from-each-dataframe-into-one-overall-table,-while-preserving-the-name-of-the-sheet-where-the-columns-came-from-1.2\"><span class=\"toc-item-num\">1.2&nbsp;&nbsp;</span>Next, we concatenate the $log_2FC$ and $p_{adj}$ columns from each dataframe into one overall table, while preserving the name of the sheet where the columns came from</a></span></li><li><span><a href=\"#SmartTables-can't-handle-multi-index-headers,-so-we-flatten-them\" data-toc-modified-id=\"SmartTables-can't-handle-multi-index-headers,-so-we-flatten-them-1.3\"><span class=\"toc-item-num\">1.3&nbsp;&nbsp;</span>SmartTables can't handle multi-index headers, so we flatten them</a></span></li><li><span><a href=\"#If-you-are-using--Binder,-download-the-data-file-to-your-Desktop\" data-toc-modified-id=\"If-you-are-using--Binder,-download-the-data-file-to-your-Desktop-1.4\"><span class=\"toc-item-num\">1.4&nbsp;&nbsp;</span>If you are using  Binder, <a href=\"Data/all_data.tab\" target=\"_blank\">download the data file</a> to your Desktop</a></span></li></ul></li></ul></div>"
   ]
  },
  {
   "cell_type": "markdown",
   "metadata": {},
   "source": [
    "# Preparing data for SmartTables\n",
    "\n",
    "## First, we read each Excel sheet into a separate data frame"
   ]
  },
  {
   "cell_type": "code",
   "execution_count": null,
   "metadata": {
    "ExecuteTime": {
     "end_time": "2019-03-23T05:33:52.112078Z",
     "start_time": "2019-03-23T05:32:36.258966Z"
    }
   },
   "outputs": [],
   "source": [
    "import pandas as pd\n",
    "excel_file = 'Data4Deanna.xlsx'\n",
    "sheets = ['oneA','thirty3B','fiveE','oneAA','fiveE1AA','Sp245']\n",
    "tab_file = 'Data/{}.tab'\n",
    "data = {}\n",
    "for sheet_name in sheets:\n",
    "    data[sheet_name] = pd.read_excel(excel_file,\n",
    "                                     sheet_name = sheet_name,\n",
    "                                     index_col='locus')\n",
    "    data[sheet_name].to_csv(tab_file.format(sheet_name),\n",
    "                           sep='\\t')"
   ]
  },
  {
   "cell_type": "code",
   "execution_count": null,
   "metadata": {
    "ExecuteTime": {
     "end_time": "2019-03-23T03:16:34.480064Z",
     "start_time": "2019-03-23T03:16:34.469207Z"
    }
   },
   "outputs": [],
   "source": [
    "data['oneA'].head()"
   ]
  },
  {
   "cell_type": "code",
   "execution_count": null,
   "metadata": {
    "ExecuteTime": {
     "end_time": "2019-03-23T16:44:06.442569Z",
     "start_time": "2019-03-23T16:44:06.292011Z"
    }
   },
   "outputs": [],
   "source": [
    "!head Data/oneA.tab"
   ]
  },
  {
   "cell_type": "markdown",
   "metadata": {},
   "source": [
    "## Next, we concatenate the $log_2FC$ and $p_{adj}$ columns from each dataframe into one overall table, while preserving the name of the sheet where the columns came from"
   ]
  },
  {
   "cell_type": "code",
   "execution_count": null,
   "metadata": {
    "ExecuteTime": {
     "end_time": "2019-03-23T03:16:45.432884Z",
     "start_time": "2019-03-23T03:16:45.328789Z"
    }
   },
   "outputs": [],
   "source": [
    "all_data = pd.concat([data[sheet_name][['log2FoldChange','padj']] \n",
    "           for sheet_name in sheets],\n",
    "          axis=1,\n",
    "          keys=sheets,\n",
    "          names=['sheet_names','columns']              \n",
    "     )\n",
    "all_data.head()"
   ]
  },
  {
   "cell_type": "markdown",
   "metadata": {},
   "source": [
    "## SmartTables can't handle multi-index headers, so we flatten them "
   ]
  },
  {
   "cell_type": "code",
   "execution_count": null,
   "metadata": {
    "ExecuteTime": {
     "end_time": "2019-03-23T03:18:33.915074Z",
     "start_time": "2019-03-23T03:18:33.244293Z"
    }
   },
   "outputs": [],
   "source": [
    "flat_headers = ['{}_{}'.format(sheet_name,column) \n",
    "                    for sheet_name, column in\n",
    "                        zip(all_data.columns.get_level_values( 'sheet_names' ),\n",
    "                            all_data.columns.get_level_values( 'columns' ) )]\n",
    "\n",
    "all_data_w_flat_headers = all_data.copy()\n",
    "all_data_w_flat_headers.columns = flat_headers\n",
    "all_data_w_flat_headers.to_csv('Data/all_data.tab',\n",
    "                header=flat_headers,\n",
    "                sep='\\t')\n",
    "all_data_w_flat_headers.head()"
   ]
  },
  {
   "cell_type": "markdown",
   "metadata": {},
   "source": [
    "## If you are using  Binder, [download the data file](Data/all_data.tab) to your Desktop\n",
    "\n"
   ]
  },
  {
   "cell_type": "code",
   "execution_count": null,
   "metadata": {},
   "outputs": [],
   "source": []
  }
 ],
 "metadata": {
  "kernelspec": {
   "display_name": "anaconda3-4.4.0",
   "language": "python",
   "name": "anaconda3-4.4.0"
  },
  "language_info": {
   "codemirror_mode": {
    "name": "ipython",
    "version": 3
   },
   "file_extension": ".py",
   "mimetype": "text/x-python",
   "name": "python",
   "nbconvert_exporter": "python",
   "pygments_lexer": "ipython3",
   "version": "3.6.8"
  },
  "toc": {
   "base_numbering": 1,
   "nav_menu": {},
   "number_sections": true,
   "sideBar": true,
   "skip_h1_title": false,
   "title_cell": "Table of Contents",
   "title_sidebar": "Contents",
   "toc_cell": true,
   "toc_position": {},
   "toc_section_display": true,
   "toc_window_display": false
  },
  "varInspector": {
   "cols": {
    "lenName": 16,
    "lenType": 16,
    "lenVar": 40
   },
   "kernels_config": {
    "python": {
     "delete_cmd_postfix": "",
     "delete_cmd_prefix": "del ",
     "library": "var_list.py",
     "varRefreshCmd": "print(var_dic_list())"
    },
    "r": {
     "delete_cmd_postfix": ") ",
     "delete_cmd_prefix": "rm(",
     "library": "var_list.r",
     "varRefreshCmd": "cat(var_dic_list()) "
    }
   },
   "types_to_exclude": [
    "module",
    "function",
    "builtin_function_or_method",
    "instance",
    "_Feature"
   ],
   "window_display": false
  }
 },
 "nbformat": 4,
 "nbformat_minor": 2
}
