{
 "cells": [
  {
   "cell_type": "markdown",
   "metadata": {
    "toc": true
   },
   "source": [
    "<h1>Table of Contents<span class=\"tocSkip\"></span></h1>\n",
    "<div class=\"toc\"><ul class=\"toc-item\"><li><span><a href=\"#Invoke-the-Omics-Dashboard-using-a-previously-existing-SmartTable\" data-toc-modified-id=\"Invoke-the-Omics-Dashboard-using-a-previously-existing-SmartTable-1\"><span class=\"toc-item-num\">1&nbsp;&nbsp;</span>Invoke the Omics Dashboard using a previously existing SmartTable</a></span><ul class=\"toc-item\"><li><span><a href=\"#Select-the-Arabidopsis-Pathway/Genome-Database-(PGDB)\" data-toc-modified-id=\"Select-the-Arabidopsis-Pathway/Genome-Database-(PGDB)-1.1\"><span class=\"toc-item-num\">1.1&nbsp;&nbsp;</span>Select the Arabidopsis Pathway/Genome Database (PGDB)</a></span></li><li><span><a href=\"#Go-to-Public-SmartTables\" data-toc-modified-id=\"Go-to-Public-SmartTables-1.2\"><span class=\"toc-item-num\">1.2&nbsp;&nbsp;</span>Go to Public SmartTables</a></span></li><li><span><a href=\"#Select-the-SmartTable\" data-toc-modified-id=\"Select-the-SmartTable-1.3\"><span class=\"toc-item-num\">1.3&nbsp;&nbsp;</span>Select the SmartTable</a></span><ul class=\"toc-item\"><li><span><a href=\"#Examine-the-SmartTable\" data-toc-modified-id=\"Examine-the-SmartTable-1.3.1\"><span class=\"toc-item-num\">1.3.1&nbsp;&nbsp;</span>Examine the SmartTable</a></span></li></ul></li><li><span><a href=\"#Go-to-the-Omics-Dashboard\" data-toc-modified-id=\"Go-to-the-Omics-Dashboard-1.4\"><span class=\"toc-item-num\">1.4&nbsp;&nbsp;</span>Go to the Omics Dashboard</a></span></li><li><span><a href=\"#Invoke-the-Omics-Dashboard-by-importing-data-from-a-SmartTable\" data-toc-modified-id=\"Invoke-the-Omics-Dashboard-by-importing-data-from-a-SmartTable-1.5\"><span class=\"toc-item-num\">1.5&nbsp;&nbsp;</span>Invoke the Omics Dashboard by importing data from a SmartTable</a></span></li></ul></li></ul></div>"
   ]
  },
  {
   "cell_type": "markdown",
   "metadata": {},
   "source": [
    "# Invoke the Omics Dashboard using a previously existing SmartTable"
   ]
  },
  {
   "cell_type": "markdown",
   "metadata": {},
   "source": [
    "## Select the Arabidopsis Pathway/Genome Database (PGDB)\n",
    "First, go to [AgileBioCyc](http://agilebiocyc:1555) and `select organism -> Arabidoposis`\n",
    "![select-ara.png](select-ara.png)\n",
    "\n",
    "## Go to Public SmartTables\n",
    "\n",
    "Once you have selected Arabidopsis as the PGDB, then go to [SmartTables->Public SmartTables](http://agilebiocyc:1555/groups?tab=PUBLIC&orgid=ARA)\n",
    "![Select smart table](Images/select-smart-table.png)\n",
    "\n",
    "## Select the SmartTable\n",
    "[Arabidopsis log2FoldChange and padj with AraCyc genes only](http://agilebiocyc:1555/group?id=agilebiocyc-5-3762271384)\n",
    "\n",
    "![Select-SmartTable.png](Images/Select-SmartTable.png)\n",
    "\n",
    "### Examine the SmartTable\n",
    "\n",
    "**Disclaimer**: of the 33,341 genes in the dataset, only 3727 are represented in `AraCyc`.  AraCyc was obtained from [The Plant Metabolic Network](https://plantcyc.org) and their PGDBs only contain metabolic genes. All PGDBs available at BioCyc contain all genes in the genome.\n",
    "\n",
    "![SmartTable](Images/examine-aracyc-smarttable.png)\n",
    "\n",
    "## Go to the Omics Dashboard\n",
    "\n",
    "In the top menubar, select `Analysis->Omics Dashboard`  (**not** `Analysis->Omics Data Analysis`)\n",
    "\n",
    "![select omics dashboard](Images/select-omics-dashboard.png)\n",
    "\n",
    "## Invoke the Omics Dashboard by importing data from a SmartTable\n",
    "* Select `Import Data from a SmartTable`\n",
    "* SmartTable: `Arabidopsis log2FC and padj with AraCyc genes only`\n",
    "* Column containing object identifiers: `locus`\n",
    "* Type of values: `Relative`\n",
    "* Data values use a `0-centered (e.g. log scale)`\n",
    "* Select columns: \n",
    "    * `oneA_log2FoldChange`\n",
    "\t* `oneA_padj`\n",
    "\t* `thirty3B_log2FoldChange`\n",
    "\t* `thirty3B_padj`\n",
    "\t* `fiveE_log2FoldChange`\n",
    "\t* `fiveE_padj`\n",
    "\t* `oneAA_log2FoldChange`\n",
    "\t* `oneAA_padj`\n",
    "\t* `fiveE1AA_log2FoldChange`\n",
    "\t* `fiveE1AA_padj`\n",
    "\t* `Sp245_log2FoldChange`\n",
    "\t* `Sp245_padj`\n",
    "* Click `Submit`\n",
    "\n",
    "![OmicsDashboard](Images/omics-dashboard-invocation.png)\n",
    "\n"
   ]
  }
 ],
 "metadata": {
  "kernelspec": {
   "display_name": "anaconda3-4.4.0",
   "language": "python",
   "name": "anaconda3-4.4.0"
  },
  "language_info": {
   "codemirror_mode": {
    "name": "ipython",
    "version": 3
   },
   "file_extension": ".py",
   "mimetype": "text/x-python",
   "name": "python",
   "nbconvert_exporter": "python",
   "pygments_lexer": "ipython3",
   "version": "3.6.8"
  },
  "toc": {
   "base_numbering": 1,
   "nav_menu": {},
   "number_sections": true,
   "sideBar": true,
   "skip_h1_title": false,
   "title_cell": "Table of Contents",
   "title_sidebar": "Contents",
   "toc_cell": true,
   "toc_position": {},
   "toc_section_display": true,
   "toc_window_display": false
  },
  "varInspector": {
   "cols": {
    "lenName": 16,
    "lenType": 16,
    "lenVar": 40
   },
   "kernels_config": {
    "python": {
     "delete_cmd_postfix": "",
     "delete_cmd_prefix": "del ",
     "library": "var_list.py",
     "varRefreshCmd": "print(var_dic_list())"
    },
    "r": {
     "delete_cmd_postfix": ") ",
     "delete_cmd_prefix": "rm(",
     "library": "var_list.r",
     "varRefreshCmd": "cat(var_dic_list()) "
    }
   },
   "types_to_exclude": [
    "module",
    "function",
    "builtin_function_or_method",
    "instance",
    "_Feature"
   ],
   "window_display": false
  }
 },
 "nbformat": 4,
 "nbformat_minor": 2
}
