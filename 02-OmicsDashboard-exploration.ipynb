{
 "cells": [
  {
   "cell_type": "markdown",
   "metadata": {
    "toc": true
   },
   "source": [
    "<h1>Table of Contents<span class=\"tocSkip\"></span></h1>\n",
    "<div class=\"toc\"><ul class=\"toc-item\"><li><span><a href=\"#Omics-Dashboard-Exploration\" data-toc-modified-id=\"Omics-Dashboard-Exploration-1\"><span class=\"toc-item-num\">1&nbsp;&nbsp;</span>Omics Dashboard Exploration</a></span><ul class=\"toc-item\"><li><span><a href=\"#Omics-Dashboard-Series-Selection\" data-toc-modified-id=\"Omics-Dashboard-Series-Selection-1.1\"><span class=\"toc-item-num\">1.1&nbsp;&nbsp;</span>Omics Dashboard Series Selection</a></span></li><li><span><a href=\"#Omics-Dashboard-Composite-Panel-Drilldown-to-Base-Panels\" data-toc-modified-id=\"Omics-Dashboard-Composite-Panel-Drilldown-to-Base-Panels-1.2\"><span class=\"toc-item-num\">1.2&nbsp;&nbsp;</span>Omics Dashboard Composite Panel Drilldown to Base Panels</a></span></li><li><span><a href=\"#View-pathways\" data-toc-modified-id=\"View-pathways-1.3\"><span class=\"toc-item-num\">1.3&nbsp;&nbsp;</span>View pathways</a></span></li><li><span><a href=\"#Click-on-any-gene,-reaction-or-pathway-and-a-pop-up-appears-that-links-to-that-page\" data-toc-modified-id=\"Click-on-any-gene,-reaction-or-pathway-and-a-pop-up-appears-that-links-to-that-page-1.4\"><span class=\"toc-item-num\">1.4&nbsp;&nbsp;</span>Click on any gene, reaction or pathway and a pop-up appears that links to that page</a></span></li><li><span><a href=\"#Each-page-provides-curated-information-about-each-pathway,-reaction,-metabolite-or-gene\" data-toc-modified-id=\"Each-page-provides-curated-information-about-each-pathway,-reaction,-metabolite-or-gene-1.5\"><span class=\"toc-item-num\">1.5&nbsp;&nbsp;</span>Each page provides curated information about each pathway, reaction, metabolite or gene</a></span></li></ul></li><li><span><a href=\"#Enrichment-analysis-based-on-significant-p-values\" data-toc-modified-id=\"Enrichment-analysis-based-on-significant-p-values-2\"><span class=\"toc-item-num\">2&nbsp;&nbsp;</span>Enrichment analysis based on significant p-values</a></span><ul class=\"toc-item\"><li><span><a href=\"#Select-Enrichment-Analysis\" data-toc-modified-id=\"Select-Enrichment-Analysis-2.1\"><span class=\"toc-item-num\">2.1&nbsp;&nbsp;</span>Select Enrichment Analysis</a></span></li><li><span><a href=\"#Explore-the-enrichment-analysis\" data-toc-modified-id=\"Explore-the-enrichment-analysis-2.2\"><span class=\"toc-item-num\">2.2&nbsp;&nbsp;</span>Explore the enrichment analysis</a></span></li></ul></li></ul></div>"
   ]
  },
  {
   "cell_type": "markdown",
   "metadata": {},
   "source": [
    "# Omics Dashboard Exploration\n",
    "\n",
    "The dashboard consists of a set of panels, each representing a system of cellular function, e.g. Biosynthesis. For each panel, we show a graph depicting omics data for each of a set of subsystems, e.g. Amino Acid Biosynthesis and Carbohydrates Biosynthesis. Each panel has its own y-axis, so that omics data for the different subsystems within a panel can readily be compared with each other. Multiple timepoints or experimental conditions are plotted as separate data series within the graph. Clicking on the plot for a given subsystem brings up a detail panel, breaking that subsystem down further into its component subsystems. At the lowest level, the values along the x-axis correspond to the individual objects in the dataset (i.e. genes for gene expression data, metabolites for metabolomics data, etc.).\n",
    "\n",
    "Panels whose x-axis labels are subsystems (e.g. pathways, pathway classes, other functional groupings) that combine data from multiple genes, reactions or metabolites are referred to as composite panels. Panels for which each x-axis label represents a single gene, metabolite, etc. are referred to as base panels. The two types of panel have different display styles and options.\n",
    "\n",
    "\n",
    "* The large dot represents the average (mean) of all data values for objects (e.g. genes) belonging to that subsystem. Genes that belong to the subsystem but which do not have values in the provided dataset are ignored and not included in the average. If the dataset consists of only a single timepoint, then the numeric value is also drawn on the chart, but this is omitted for legibility reasons when there are multiple timepoints or experimental conditions.\n",
    "* Each of the small dots represents a data value for an individual gene within the subsystem. The line connecting them shows the full range of values for that subsystem. Different subsystems contain different numbers of genes, so the numbers of small dots will vary accordingly.\n",
    "* Mousing over the plot for a given subsystem shows a tooltip that lists the full name of the subsystem, along with the number of values for each timepoint and their average values.\n",
    "\n",
    "![omics-dashboard-toplevel](Images/omics-dashboard-toplevel.png)\n",
    "\n",
    "## Omics Dashboard Series Selection\n",
    "\n",
    "It is a bit distracting displaying p-values alongside log2 fold change, so we go to `Series selection` and uncheck the following boxes:\n",
    "\t* `oneA_padj`\n",
    "\t* `thirty3B_padj`\n",
    "\t* `fiveE_padj`\n",
    "\t* `oneAA_padj`\n",
    "\t* `fiveE1AA_padj`\n",
    "\t* `Sp245_padj`\n",
    "    \n",
    "![Omics dashboard series selection](omics-dashboard-series-selection.png)\n",
    "\n",
    "## Omics Dashboard Composite Panel Drilldown to Base Panels\n",
    "\n",
    "By clicking on a subsystem within a panel, you can drill down to the Base panel of genes (or metabolites if that is what you are working on).\n",
    "\n",
    "![omics dashboard drilldown](Images/omics-dashboard-drill-down.png)\n",
    "\n",
    "## View pathways\n",
    "\n",
    "Once you drill down to a base panel, there are additional options, such as `Show Pathways`\n",
    "\n",
    "![omics dashboard pathway drill down](Images/pathway-drill-down.png)\n",
    "\n",
    "## Click on any gene, reaction or pathway and a pop-up appears that links to that page\n",
    "\n",
    "![brassinosteroid pwy](Images/brassinosteroid-pwy.png)\n",
    "\n",
    "## Each page provides curated information about each pathway, reaction, metabolite or gene\n",
    "\n",
    "![brassinosteroid pwy page](Images/brassinosteroid-pwy-page.png)"
   ]
  },
  {
   "cell_type": "markdown",
   "metadata": {},
   "source": [
    "# Enrichment analysis based on significant p-values\n",
    "\n",
    "In the right panel bar, open the `Enrichment Analysis` panel, and click on `More Information...`\n",
    "\n",
    "Enrichment mode is designed to call attention to subsystems whose changes in gene or metabolite expression are statistically significant. Instead of showing the average and range of data values for each subsystem, enrichment mode displays computed statistical enrichment scores for each subsystem.\n",
    "The enrichment score for a subsystem captures the degree to which a statistically significant number of genes or metabolites within that subsystem have significant expression values. The dashboard computes enrichment p-values using Grossmann's parent-child-union variation of the Fisher-exact test, and applying the specified multiple hypothesis correction, and then transforms each p-value to an enrichment score: -log10(p-value).\n",
    "\n",
    "The following is an illustration of a portion of the Biosynthesis panel in enrichment mode:\n",
    "\n",
    "![dash-enrich](Images/dash-enrich.png)\n",
    "\n",
    "* The thick colored bar represents the enrichment score (-log10(p-value)) for the entire subsystem, in this case Amino Acid Biosynthesis. This enrichment score is the numeric value printed near the top of the bar.\n",
    "* If some component subsystem has a higher enrichment score than the subsystem as a whole, for example if Arginine Biosynthesis has a much higher enrichment score than Amino Acid Biosynthesis as a whole (because the enrichment score for Amino Acid Biosynthesis is diluted by other low-scoring amino acid pathways), then this is indicated using a thin vertical line, B, that extends past the top of the colored bar. The bar at the top of the line represents the greatest enrichment score of any component subsystem. This line suggests that you might want to drill down one level in this subsystem to investigate further.\n",
    "* If no line extends past the top of a colored bar, then there is no component subsystem with a higher enrichment score than that of the subsystem as a whole. This situation tends to happen when the contributions towards significance are fairly evenly spread out amongst the component subsystems rather than being primarily confined to a specific subset.\n",
    "\n",
    "For each data column (experiment, timepoint or replicate group) you wish to see an enrichment score for, you can specify a corresponding significance column that contains significance values that you have calculated for the data column. In the simplest case, this column may be the same as the data column itself, such as if you simply want to see which subsystems have an over-representation of outlier values. Alternatively, your data file may include one or more additional columns containing significance values (such as p-values derived from replicate analysis). These columns should already have been included in the file and designated as data columns when you uploaded it, but you will probably want to unselect them in the Series Selection panel when not in enrichment mode, so they will not be displayed as regular data series. If there is no significance column for a given data column, you can leave it unspecified -- that data column will be excluded from the enrichment analysis. Similarly, if the same significance column applies to multiple data columns, assign it to only one of them, as there is no point duplicating the analysis.\n",
    "Once you have indicated which significance columns to use, you will need to specify a significance threshold -- the enrichment computation performed by the dashboard will include only those entities (e.g., genes) whose significance value exceeds the threshold in the direction you specify (p-values should be less than the specified threshold, but for other significance measures you might want them to be greater than the threshold).\n",
    "\n",
    "## Select Enrichment Analysis \n",
    "In the right panel bar, open the `Enrichment Analysis` panel\n",
    "\n",
    "* Under `Data Series`, select the following significance columns:\n",
    "\t* `oneA_log2FoldChange`:  `oneA_padj`\n",
    "\t* `thirty3B_log2FoldChange`:  `thirty3B_padj`\n",
    "\t* `fiveE_log2FoldChange`:  `fiveE_padj`\n",
    "\t* `oneAA_log2FoldChange`:  `oneAA_padj`\n",
    "\t* `fiveE1AA_log2FoldChange`:  `fiveE1AA_padj`\n",
    "\t* `Sp245_log2FoldChange`:  `Sp245_padj`\n",
    "* Leave the `*_padj` columns empty\n",
    "* Significance values are `<= 0.1`\n",
    "* Multiple Hypothesis correction:  `Benjamini-Hochberg Correction`\n",
    "* Click `Compute Enrichment Data`\n"
   ]
  },
  {
   "cell_type": "markdown",
   "metadata": {},
   "source": [
    "![select enrichment](Images/select-enrichment.png)"
   ]
  },
  {
   "cell_type": "markdown",
   "metadata": {},
   "source": [
    "## Explore the enrichment analysis\n",
    "\n",
    "By selecting only those $\\log_2$ fold changes that are significantly enriched in each category, we are better able to focus on what is important.\n",
    "\n",
    "\n",
    "\n",
    "![explore enrichment analysis](Images/explore-enrichment-analysis.png)"
   ]
  },
  {
   "cell_type": "markdown",
   "metadata": {},
   "source": [
    "\n",
    "\n"
   ]
  }
 ],
 "metadata": {
  "kernelspec": {
   "display_name": "anaconda3-4.4.0",
   "language": "python",
   "name": "anaconda3-4.4.0"
  },
  "language_info": {
   "codemirror_mode": {
    "name": "ipython",
    "version": 3
   },
   "file_extension": ".py",
   "mimetype": "text/x-python",
   "name": "python",
   "nbconvert_exporter": "python",
   "pygments_lexer": "ipython3",
   "version": "3.6.8"
  },
  "toc": {
   "base_numbering": 1,
   "nav_menu": {},
   "number_sections": true,
   "sideBar": true,
   "skip_h1_title": false,
   "title_cell": "Table of Contents",
   "title_sidebar": "Contents",
   "toc_cell": true,
   "toc_position": {},
   "toc_section_display": true,
   "toc_window_display": false
  },
  "varInspector": {
   "cols": {
    "lenName": 16,
    "lenType": 16,
    "lenVar": 40
   },
   "kernels_config": {
    "python": {
     "delete_cmd_postfix": "",
     "delete_cmd_prefix": "del ",
     "library": "var_list.py",
     "varRefreshCmd": "print(var_dic_list())"
    },
    "r": {
     "delete_cmd_postfix": ") ",
     "delete_cmd_prefix": "rm(",
     "library": "var_list.r",
     "varRefreshCmd": "cat(var_dic_list()) "
    }
   },
   "types_to_exclude": [
    "module",
    "function",
    "builtin_function_or_method",
    "instance",
    "_Feature"
   ],
   "window_display": false
  }
 },
 "nbformat": 4,
 "nbformat_minor": 2
}
